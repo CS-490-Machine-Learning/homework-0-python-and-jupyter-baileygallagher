{
 "cells": [
  {
   "cell_type": "markdown",
   "metadata": {},
   "source": [
    "**<center><font size=6>CS490: Machine Learning</font><br></center>**\n",
    "\n",
    "# Numpy, MatPlotLib, and Course Tools Tutorial\n",
    "<hr>\n",
    "\n",
    "In this notebook, we will go through some basics of the python tools for numerical computing and plotting, as well as some of the code framework we will be using in class.\n",
    "\n",
    "## NumPy\n",
    "There are many libraries for scientific computing in python, but NumPy (http://www.numpy.org/) is one of the most common and well established. NumPy gives a relatively efficient framework for manipulating fixed-type arrays, such as vectors, matrices, and tensors, as well as extensive libraries for common operations on those structures, such as computing data statistics, linear algebraic operations, and much more. Many of its core operations are similar to Matlab/Octave, although it is more flexible and Pythonic.\n",
    "\n",
    "## MatPlotLib\n",
    "MatPlotLib (http://matplotlib.org/) is a library for generating plots and figures in Python, specifically modeled to mimic the capabilities of Matlab for generating easy visualizations. There are many alternative libraries for plotting data, some with featurs that matplotlib lacks, but matplotlib's simplicity and similarity to Matlab syntax and capabilities have made it fairly popular.\n",
    "\n",
    "## SciPy\n",
    "We will also occasionally need SciPy (http://www.scipy.org/), which has some functions not included in NumPy.\n",
    "\n",
    "## Course Tools\n",
    "We will also use some simple machine learning tools developed for the class. These are not an offical library, so you'll just install them like your own source code -- place the \"mltools\" directory (not just the files, but the directory itself) in either your current working directory, or in a directory on your python path. (You can check that this is working by running:"
   ]
  },
  {
   "cell_type": "raw",
   "metadata": {},
   "source": [
    "python -c \"import mltools as ml\""
   ]
  },
  {
   "cell_type": "markdown",
   "metadata": {},
   "source": [
    "If you get an error, the code is not located correctly.\n",
    "\n",
    "Note that, while these tools are useable for your own projects, they are intended to provide a simplified skeleton of how various machine learning techniques work for the educational purpose of understanding the concepts and writing and examining a number of fundamental algorithms. If you are interested in using a more fully-featured library for practice (or in your projects later in the semester) there are a number of excellent options, including\n",
    "\n",
    "PyLearn2 (Python), http://deeplearning.net/software/pylearn2/ <br>\n",
    "PMTK3 (Octave), https://github.com/probml/pmtk3"
   ]
  },
  {
   "cell_type": "markdown",
   "metadata": {},
   "source": [
    "<hr>\n",
    "\n",
    "## NumPy Basics\n",
    "We will use NumPy for representing data matrices and vectors. We will do a more thorough review in a few weeks of the linear algebra concepts and operations necessary for manipulating matrices and vectors, but for now, think of a vector as a list of numbers, a matrix as a 2d list, and scalar values as regular numbers. \n",
    "\n",
    "### Defining arrays of data\n",
    "To define one-dimensional arrays (vectors), we can use numpy's \"array\" object and pass it a list of values:"
   ]
  },
  {
   "cell_type": "code",
   "execution_count": 1,
   "metadata": {},
   "outputs": [
    {
     "name": "stdout",
     "output_type": "stream",
     "text": [
      "[1 2 3 4 5 6 7]\n"
     ]
    }
   ],
   "source": [
    "import numpy as np\n",
    "\n",
    "a = np.array([1,2,3,4,5,6,7])\n",
    "# or equivalently, using Python iterables:\n",
    "a = np.array( range(1,8) )\n",
    "print(a)"
   ]
  },
  {
   "cell_type": "markdown",
   "metadata": {},
   "source": [
    "To make a 2D array (matrix), provide the constructor with a list of lists:"
   ]
  },
  {
   "cell_type": "code",
   "execution_count": 2,
   "metadata": {},
   "outputs": [
    {
     "name": "stdout",
     "output_type": "stream",
     "text": [
      "[[ 1  2  3  4]\n",
      " [ 5  6  7  8]\n",
      " [ 9 10 11 12]]\n"
     ]
    }
   ],
   "source": [
    "A = np.array( [[1,2,3,4],[5,6,7,8],[9,10,11,12]] )\n",
    "print(A)"
   ]
  },
  {
   "cell_type": "markdown",
   "metadata": {},
   "source": [
    "For linear algebra-like operations will usually want \"vectors\" of size (m,1) or size (1,n) -- in other words, two-dimensional matrices. (Note: there is a numpy class \"matrix\" that is specialized to linear algebra, but you should be a bit careful mixing \"array\" and \"matrix\" objects; so for now we'll stick with arrays)."
   ]
  },
  {
   "cell_type": "code",
   "execution_count": 3,
   "metadata": {},
   "outputs": [],
   "source": [
    "# A row vector can be created as:\n",
    "b = np.array( [[1,2,3,4,5,6,7]])\n",
    "# and a column vector as\n",
    "bT = np.array( [[1],[2],[3],[4],[5],[6],[7]] )\n",
    "# that's pretty inconvient, so we usually just use the \"transpose\" operator:\n",
    "bT = np.array( [[1,2,3,4,5,6,7]]).T"
   ]
  },
  {
   "cell_type": "markdown",
   "metadata": {},
   "source": [
    "One thing to notice is that *a*  and  *b*  are not quite the same!  *a*  is a vector with shape *(7,)*, while  *b*  is actually a matrix with shape *(1,7)* -- it has two dimensions, one of which just happens to be one."
   ]
  },
  {
   "cell_type": "code",
   "execution_count": 4,
   "metadata": {},
   "outputs": [
    {
     "name": "stdout",
     "output_type": "stream",
     "text": [
      "a's shape:  (7,) ; \t b's shape:  (1, 7)\n"
     ]
    }
   ],
   "source": [
    "print(\"a's shape: \",a.shape,\"; \\t b's shape: \",b.shape)"
   ]
  },
  {
   "cell_type": "markdown",
   "metadata": {},
   "source": [
    "The difference here is pretty semantic, but can make a difference to python -- so if you're getting shape errors, check what shape your variables are and make sure that's what's expected. You can use \"atleast_2d\" to force a vector to become a matrix, but be careful of what size is created:"
   ]
  },
  {
   "cell_type": "code",
   "execution_count": 5,
   "metadata": {},
   "outputs": [
    {
     "name": "stdout",
     "output_type": "stream",
     "text": [
      "shape after 2D:  (1, 7)\n"
     ]
    }
   ],
   "source": [
    "aNew = np.atleast_2d(a)\n",
    "print(\"shape after 2D: \", aNew.shape)"
   ]
  },
  {
   "cell_type": "markdown",
   "metadata": {},
   "source": [
    "There are several useful constructors for matrices that automatically \"fill\" a matrix of some shape:"
   ]
  },
  {
   "cell_type": "code",
   "execution_count": 6,
   "metadata": {},
   "outputs": [],
   "source": [
    "A0 = np.zeros( (3,4) )    # create a 3x4 matrix of all zeros\n",
    "A1 = np.ones( (4,4) )     # create a 3x4 matrix of all ones\n",
    "Ru = np.random.rand(2,2)  # create a 2x2 matrix of uniform random numbers, in [0,1)\n",
    "Rn = np.random.randn(3,2) # create a 3x2 matrix of Gaussian random numbers, with mean 0 and variance 1\n",
    "B = np.tile(b, (3,2))     # create a matrix by \"tiling\" copies of b (3 copies by 2 copies)"
   ]
  },
  {
   "cell_type": "markdown",
   "metadata": {},
   "source": [
    "A very useful constructor is linspace (and similarly logspace)"
   ]
  },
  {
   "cell_type": "code",
   "execution_count": 7,
   "metadata": {},
   "outputs": [],
   "source": [
    "b = np.linspace(1.0,7.0,4) # length-4 vector interpolating between 1.0 and 7.0\n",
    "c = np.logspace(0.0,2.0,7) # length-7 vector interpolating between 10^0 and 10^2 logarithmically"
   ]
  },
  {
   "cell_type": "markdown",
   "metadata": {},
   "source": [
    "### Array indexing\n",
    "Arrays can be indexed in simple and useful ways. The *(i,j)th* entry in a matrix is simply:"
   ]
  },
  {
   "cell_type": "code",
   "execution_count": 8,
   "metadata": {},
   "outputs": [
    {
     "name": "stdout",
     "output_type": "stream",
     "text": [
      "A[2,0]= 9\n"
     ]
    }
   ],
   "source": [
    "print(\"A[2,0]=\",A[2,0])   # 3rd row, 1st column"
   ]
  },
  {
   "cell_type": "markdown",
   "metadata": {},
   "source": [
    "To reference an entire row or column, use the slice operator \":\""
   ]
  },
  {
   "cell_type": "code",
   "execution_count": 9,
   "metadata": {},
   "outputs": [
    {
     "name": "stdout",
     "output_type": "stream",
     "text": [
      "A[0,:]= [1 2 3 4]\n",
      "A[:,1]= [ 2  6 10]\n"
     ]
    }
   ],
   "source": [
    "print(\"A[0,:]=\",A[0,:])\n",
    "print(\"A[:,1]=\",A[:,1])"
   ]
  },
  {
   "cell_type": "markdown",
   "metadata": {},
   "source": [
    "Note that these are now vectors, **not** size-1 matrices, per the previous discussion.\n",
    "\n",
    "You can use more general slicing with steps:"
   ]
  },
  {
   "cell_type": "code",
   "execution_count": 10,
   "metadata": {},
   "outputs": [
    {
     "name": "stdout",
     "output_type": "stream",
     "text": [
      "A[1,0:2]= [5 6]\n",
      "A[0,0:4:2]= [1 3]\n"
     ]
    }
   ],
   "source": [
    "print(\"A[1,0:2]=\",A[1,0:2])\n",
    "print(\"A[0,0:4:2]=\",A[0,0:4:2])"
   ]
  },
  {
   "cell_type": "markdown",
   "metadata": {},
   "source": [
    "It is often useful to use lists to slice out particular rows or columns. You can do this with one row and several columns (or vice versa):"
   ]
  },
  {
   "cell_type": "code",
   "execution_count": 11,
   "metadata": {},
   "outputs": [
    {
     "name": "stdout",
     "output_type": "stream",
     "text": [
      "A[2, [1,4]]= [ 9 12]\n"
     ]
    }
   ],
   "source": [
    "print (\"A[2, [1,4]]=\",A[2, [0,3]])"
   ]
  },
  {
   "cell_type": "markdown",
   "metadata": {},
   "source": [
    "or all rows and selected columns (or vice versa)"
   ]
  },
  {
   "cell_type": "code",
   "execution_count": 13,
   "metadata": {},
   "outputs": [
    {
     "name": "stdout",
     "output_type": "stream",
     "text": [
      "A[:, [1,4]]=\n",
      " [[ 1  4]\n",
      " [ 5  8]\n",
      " [ 9 12]]\n"
     ]
    }
   ],
   "source": [
    "print(\"A[:, [1,4]]=\\n\",A[:, [0,3]])"
   ]
  },
  {
   "cell_type": "markdown",
   "metadata": {},
   "source": [
    "### Arithmetic operations\n",
    "Arithmetic operations are defined for arrays, i.e.,"
   ]
  },
  {
   "cell_type": "code",
   "execution_count": 14,
   "metadata": {},
   "outputs": [],
   "source": [
    "a  = a+2\n",
    "# or\n",
    "a += 2"
   ]
  },
  {
   "cell_type": "markdown",
   "metadata": {},
   "source": [
    "adds the scalar value 2 (i.e., the regular integer 2) to every entry of a; similarly for *,-,/, etc.\n",
    "\n",
    "You can add two vectors if they are the same size:"
   ]
  },
  {
   "cell_type": "code",
   "execution_count": 15,
   "metadata": {},
   "outputs": [
    {
     "name": "stdout",
     "output_type": "stream",
     "text": [
      "a + 2*c =  [  7.          10.30886938  16.28317767  28.          52.0886938\n",
      " 102.83177667 211.        ]\n"
     ]
    }
   ],
   "source": [
    "print(\"a + 2*c = \",a+2*c)"
   ]
  },
  {
   "cell_type": "markdown",
   "metadata": {},
   "source": [
    "but you cannot add two vectors that are not the same size (unless one is a scalar):"
   ]
  },
  {
   "cell_type": "code",
   "execution_count": 17,
   "metadata": {},
   "outputs": [
    {
     "name": "stdout",
     "output_type": "stream",
     "text": [
      "Got exception!\n"
     ]
    }
   ],
   "source": [
    "try:\n",
    "    print(\"a + b = \",a+b)  # raises a ValueError exception\n",
    "except:\n",
    "    print(\"Got exception!\")"
   ]
  },
  {
   "cell_type": "markdown",
   "metadata": {},
   "source": [
    "Operators are interpreted as elementwise, so that a*c is a vector:"
   ]
  },
  {
   "cell_type": "code",
   "execution_count": 18,
   "metadata": {},
   "outputs": [
    {
     "name": "stdout",
     "output_type": "stream",
     "text": [
      "[   5.           12.92660814   32.49112184   80.          193.8991221\n",
      "  464.15888336 1100.        ]\n"
     ]
    }
   ],
   "source": [
    "print(a * c)"
   ]
  },
  {
   "cell_type": "markdown",
   "metadata": {},
   "source": [
    "Linear-algebraic operations are also defined for vectors and matrices (we will do more with this in a few weeks):"
   ]
  },
  {
   "cell_type": "code",
   "execution_count": 19,
   "metadata": {},
   "outputs": [
    {
     "data": {
      "text/plain": [
       "array([ 50., 114., 178.])"
      ]
     },
     "execution_count": 19,
     "metadata": {},
     "output_type": "execute_result"
    }
   ],
   "source": [
    "a.dot(c.T)  # The dot product between vectors a and c\n",
    "A.dot(b.T)  # The matrix-vector product of A and  c"
   ]
  },
  {
   "cell_type": "markdown",
   "metadata": {},
   "source": [
    "Elementwise powers are ** (raising each element in the matrix individually to the specified power) while matrix powers (raising the entire matrix to the given power using the dot product) use the linalg module:"
   ]
  },
  {
   "cell_type": "code",
   "execution_count": 20,
   "metadata": {},
   "outputs": [],
   "source": [
    "R=A**2,                        # The elementwise square of A: R(i,j)=A(i,j)^2\n",
    "R=np.linalg.matrix_power(A1,2)  # The matrix product R=A1*A1: R(i,j)=\\sum_k A1(i,k)*A1(k,j)"
   ]
  },
  {
   "cell_type": "markdown",
   "metadata": {},
   "source": [
    "***NOTE:***\n",
    "As mentioned above, numpy also includes a \"matrix\" class, which wraps / redefines the \"array\" class for matrix objects, the operator \"*\" means matrix multiplication, and \"**\" matrix power So, be careful which type of object you make! We usually want both matrix-like operators and array-like operators, so for consistency I usually define the objects to be arrays, and use \"dot\" when I want matrix operations."
   ]
  },
  {
   "cell_type": "markdown",
   "metadata": {},
   "source": [
    "### Logical operands and logical indexing\n",
    "\n",
    "It's often useful to use elementwise logical operations, which produce new (logical) vectors and matrices:"
   ]
  },
  {
   "cell_type": "code",
   "execution_count": 21,
   "metadata": {},
   "outputs": [
    {
     "name": "stdout",
     "output_type": "stream",
     "text": [
      "a==b :  [ True False  True]\n",
      "a!=b :  [False  True False]\n",
      "a<2  :  [ True  True False]\n"
     ]
    }
   ],
   "source": [
    "a = np.array([0,1,2])\n",
    "b = np.array([0,0,2])\n",
    "\n",
    "# comparison operators produce new logical vectors or matrices:\n",
    "print(\"a==b : \",a==b)   # prints logical vector [1,0,1]\n",
    "print(\"a!=b : \",a!=b)  # prints logical vector [0,1,0]\n",
    "print(\"a<2  : \",a<2)   # prints logical vector [1,1,0]"
   ]
  },
  {
   "cell_type": "markdown",
   "metadata": {},
   "source": [
    "For use in flow control (if, etc.), you probably want to convert these to scalars with any or all:"
   ]
  },
  {
   "cell_type": "code",
   "execution_count": 22,
   "metadata": {},
   "outputs": [
    {
     "name": "stdout",
     "output_type": "stream",
     "text": [
      "Any?  True\n",
      "All?  False\n"
     ]
    }
   ],
   "source": [
    "print(\"Any? \",np.any( a!=b ))   # true if any a(i)!=b(i) for some i \n",
    "print(\"All? \",np.all( a==b ))  # true if all a(i)=b(i) for every i "
   ]
  },
  {
   "cell_type": "markdown",
   "metadata": {},
   "source": [
    "For matrices, you may want to only collapse one or more dimensions:"
   ]
  },
  {
   "cell_type": "code",
   "execution_count": 23,
   "metadata": {},
   "outputs": [
    {
     "name": "stdout",
     "output_type": "stream",
     "text": [
      "[False  True]\n"
     ]
    }
   ],
   "source": [
    "M=[[0,1],[0,0]]; \n",
    "print(np.any( M , axis=0))      # acts on individual columns of M; returns a logical row vector "
   ]
  },
  {
   "cell_type": "markdown",
   "metadata": {},
   "source": [
    "We can use these logical vectors and matrices for indexing, such as to extract sub-matrices:"
   ]
  },
  {
   "cell_type": "code",
   "execution_count": 24,
   "metadata": {},
   "outputs": [
    {
     "name": "stdout",
     "output_type": "stream",
     "text": [
      "Positive entries of a:  [1 2]\n"
     ]
    }
   ],
   "source": [
    "print(\"Positive entries of a: \", a[ a>0 ])"
   ]
  },
  {
   "cell_type": "markdown",
   "metadata": {},
   "source": [
    "<hr>\n",
    "\n",
    "## MatPlotLib for plotting\n",
    "MatPlotLib gives a nice plotting interface similar to Matlab / Octave.\n",
    "\n",
    "### Scatterplots and line plots\n",
    "The most typical action is to plot one sequence (x-values) against another (y-values); this can be done using disconnected points (a scatterplot), or by connecting adjacent points in the sequence (in the order they were provided). The latter is usually used to give a nice (piecewise linear) visualization of a continuous curve, by specifying x-values in order, and the y-values given by the function at those x-values:"
   ]
  },
  {
   "cell_type": "code",
   "execution_count": 25,
   "metadata": {},
   "outputs": [],
   "source": [
    "import matplotlib.pyplot as plt   # use matplotlib for plotting with inline plots\n",
    "%matplotlib inline\n",
    "#import mpld3                       # mpld3 is a \"interactive plot\" widget for ipython notebook\n",
    "#mpld3.enable_notebook()            # uncomment to be able to zoom into plots, etc."
   ]
  },
  {
   "cell_type": "markdown",
   "metadata": {},
   "source": [
    "Plotting a scatter of data points:"
   ]
  },
  {
   "cell_type": "code",
   "execution_count": 26,
   "metadata": {},
   "outputs": [
    {
     "data": {
      "image/png": "[encoded data removed]",
      "text/plain": [
       "<Figure size 432x288 with 1 Axes>"
      ]
     },
     "metadata": {
      "needs_background": "light"
     },
     "output_type": "display_data"
    }
   ],
   "source": [
    "x_values = np.random.rand(1,10)   # unformly in [0,1)\n",
    "y_values = np.random.randn(1,10)  # Gaussian distribution\n",
    "plt.plot(x_values, y_values, 'ko');"
   ]
  },
  {
   "cell_type": "markdown",
   "metadata": {},
   "source": [
    "The string determines the plot appearance -- in this case, black circles. You can use color strings ('r', 'g', 'b', 'm', 'c', 'y', ...) or use the \"Color\" keyword to specify an RGB color. Marker appearance ('o','s','v','.', ...) controls how the points look.\n",
    "\n",
    "If we connect those points using a line appearance specification ('-','--',':',...), it will not look very good, because the points are not ordered in any meaningful way. Let's try a line plot using an ordered sequence of x values:"
   ]
  },
  {
   "cell_type": "code",
   "execution_count": 27,
   "metadata": {},
   "outputs": [
    {
     "data": {
      "image/png": "[encoded data removed]",
      "text/plain": [
       "<Figure size 432x288 with 1 Axes>"
      ]
     },
     "metadata": {
      "needs_background": "light"
     },
     "output_type": "display_data"
    }
   ],
   "source": [
    "x_values = np.linspace(0,8,100)\n",
    "y_values = np.sin(x_values)\n",
    "plt.plot(x_values,y_values,'b-');"
   ]
  },
  {
   "cell_type": "markdown",
   "metadata": {},
   "source": [
    "This is actually a plot of a large number of points (100), with no marker shape and connected by a solid line.\n",
    "\n",
    "For plotting multiple point sets or curves, you can pass more vectors into the plot function, or call the function multiple times:"
   ]
  },
  {
   "cell_type": "code",
   "execution_count": 28,
   "metadata": {},
   "outputs": [
    {
     "data": {
      "image/png": "[encoded data removed]",
      "text/plain": [
       "<Figure size 432x288 with 1 Axes>"
      ]
     },
     "metadata": {
      "needs_background": "light"
     },
     "output_type": "display_data"
    }
   ],
   "source": [
    "x_values = np.linspace(0,8,100)\n",
    "y1 = np.sin(x_values)         # sinusoidal function\n",
    "y2 = (x_values - 3)**2 / 12   # a simple quadratic curve\n",
    "y3 = 0.5*x_values - 1.0       # a simple linear function\n",
    "\n",
    "plt.plot(x_values, y1, 'b-', x_values, y2, 'g--');  # plot two curves\n",
    "plt.plot(x_values, y3, 'r:'); # add a curve to the plot"
   ]
  },
  {
   "cell_type": "markdown",
   "metadata": {},
   "source": [
    "You may want to explicitly set the plot ranges -- perhaps the most common pattern is to plot something, get the plot's ranges, and then restore them later after plotting another function:"
   ]
  },
  {
   "cell_type": "code",
   "execution_count": 30,
   "metadata": {},
   "outputs": [
    {
     "name": "stdout",
     "output_type": "stream",
     "text": [
      "(-0.4, 8.4, -1.099652011574681, 1.0998559934443881)\n"
     ]
    },
    {
     "data": {
      "image/png": "[encoded data removed]",
      "text/plain": [
       "<Figure size 432x288 with 1 Axes>"
      ]
     },
     "metadata": {
      "needs_background": "light"
     },
     "output_type": "display_data"
    }
   ],
   "source": [
    "x_values = np.linspace(0,8,100)\n",
    "y1 = np.sin(x_values)         # sinusoidal function\n",
    "y3 = 0.5*x_values - 1.0       # a simple linear function\n",
    "\n",
    "plt.plot(x_values, y1, 'b-') \n",
    "ax = plt.axis()               # get the x and y axis ranges\n",
    "print(ax)\n",
    "# you can set or modify the axis values explicitly if you want...\n",
    "\n",
    "# now plot something else (which will change the axis ranges):\n",
    "plt.plot(x_values, y3, 'r:'); # add the linear curve\n",
    "plt.axis(ax);                 # restore the original plot's axis ranges"
   ]
  },
  {
   "cell_type": "markdown",
   "metadata": {},
   "source": [
    "### Histograms\n",
    "Histograms are also useful visualizations:"
   ]
  },
  {
   "cell_type": "code",
   "execution_count": 31,
   "metadata": {},
   "outputs": [
    {
     "data": {
      "image/png": "[encoded data removed]",
      "text/plain": [
       "<Figure size 432x288 with 1 Axes>"
      ]
     },
     "metadata": {
      "needs_background": "light"
     },
     "output_type": "display_data"
    }
   ],
   "source": [
    "plt.hist(y2, bins=20);"
   ]
  },
  {
   "cell_type": "markdown",
   "metadata": {},
   "source": [
    "The outputs of hist include the bin locations, the number of data in each bin, and the \"handles\" to the plot elements to manipulate their appearance, if desired.\n",
    "\n",
    "### Subplots and plot sizes\n",
    "It is often useful to put more than one plot together in a group; you can do this using the subplot function. There are various options; for example, \"sharex\" and \"sharey\" allow multiple plots to share a single axis range (or, you can set it manually, of course).\n",
    "\n",
    "I often find it necessary to also change the geometry of the figure for multiple subplots -- although this is more generally useful as well, if you have a plot that looks better wider and shorter, for example."
   ]
  },
  {
   "cell_type": "code",
   "execution_count": 32,
   "metadata": {},
   "outputs": [
    {
     "data": {
      "image/png": "[encoded data removed]",
      "text/plain": [
       "<Figure size 864x216 with 3 Axes>"
      ]
     },
     "metadata": {
      "needs_background": "light"
     },
     "output_type": "display_data"
    }
   ],
   "source": [
    "plt.rcParams['figure.figsize'] = (12.0, 3.0)\n",
    "fig,ax = plt.subplots(1,3)      # make a 1 x 3 grid of plots:\n",
    "ax[0].plot(x_values, y1, 'b-');   # plot y1 in the first subplot\n",
    "ax[1].plot(x_values, y2, 'g--');  #   y2 in the 2nd\n",
    "ax[2].plot(x_values, y3, 'r:');   #   and y3 in the last\n",
    "\n",
    "plt.rcParams['figure.figsize'] = (6.0, 4.0);  # restore default plot size after "
   ]
  },
  {
   "cell_type": "markdown",
   "metadata": {},
   "source": [
    "<hr>\n",
    "\n",
    "## Practice Problems: Data Exploration\n",
    "\n",
    "In these problems, we will compute some basic statistics and create visualizations of an example data set.\n",
    "First, make sure you have cloned the Homework 0 repository to your computer. You will be using the course code (the `mltools` directory) and the \"Fisher iris\" data set introduced in lecture (in the `data` directory) . Load the data into Python (be sure to run the following block so the data is loaded into your notebook):"
   ]
  },
  {
   "cell_type": "code",
   "execution_count": 2,
   "metadata": {},
   "outputs": [],
   "source": [
    "import numpy as np # numpy has already been imported into the notebook, but we do it again here for the exercise\n",
    "import matplotlib.pyplot as plt\n",
    "\n",
    "iris = np.genfromtxt(\"data/iris.txt\",delimiter=None)  # load the text file\n",
    "Y = iris[:,-1]              # target value (iris species) is the last column\n",
    "X = iris[:,0:-1]            # features are the other columns"
   ]
  },
  {
   "cell_type": "markdown",
   "metadata": {},
   "source": [
    "The Iris data consists of four real-valued features used to predict which of three types of iris\n",
    "flower was measured (a three-class classification problem). Use this data to complete the following problems:\n",
    "\n",
    "**1. Use `X.shape` to get the number of features and the number of data points. Report both numbers, mentioning which number is which.**"
   ]
  },
  {
   "cell_type": "code",
   "execution_count": 3,
   "metadata": {},
   "outputs": [
    {
     "name": "stdout",
     "output_type": "stream",
     "text": [
      "Our target data's shape is:  (148,)\n",
      "Our feature data's shape is:  (148, 4)\n"
     ]
    }
   ],
   "source": [
    "# Your code here for getting the size of the data set\n",
    "target = Y.shape\n",
    "features = X.shape\n",
    "print(\"Our target data's shape is: \", target)\n",
    "print(\"Our feature data's shape is: \", features)\n"
   ]
  },
  {
   "cell_type": "markdown",
   "metadata": {},
   "source": [
    "**2. For each feature, plot a histogram (`plt.hist`) of the data values.**"
   ]
  },
  {
   "cell_type": "code",
   "execution_count": 4,
   "metadata": {},
   "outputs": [
    {
     "data": {
      "image/png": "[encoded data removed]",
      "text/plain": [
       "<Figure size 1200x300 with 2 Axes>"
      ]
     },
     "metadata": {},
     "output_type": "display_data"
    }
   ],
   "source": [
    "# Your code here for histograms of each feature\n",
    "plt.rcParams['figure.figsize'] = (12.0, 3.0)\n",
    "fig,ax = plt.subplots(1,2)      # make a 1 x 3 grid of plots:\n",
    "ax[0].hist( X, bins=10);   # plot y1 in the first subplot\n",
    "ax[1].hist( Y, bins=10);\n"
   ]
  },
  {
   "cell_type": "markdown",
   "metadata": {},
   "source": [
    "**3. Compute the mean & standard deviation of the data points for each feature (`np.mean`, `np.std`).**"
   ]
  },
  {
   "cell_type": "code",
   "execution_count": 5,
   "metadata": {},
   "outputs": [
    {
     "name": "stdout",
     "output_type": "stream",
     "text": [
      "The mean of our features is:  3.517786251554054\n",
      "The mean of our targets is:  1.0\n",
      "The standard deviation of our features is:  1.9755108699052022\n",
      "The standard deviation of our targets is:  0.813733471206735\n"
     ]
    }
   ],
   "source": [
    "# Your code here for mean and standard deviation for each feature\n",
    "x_mean = np.mean(X)\n",
    "print(\"The mean of our features is: \",x_mean)\n",
    "Y_mean = np.mean(Y)\n",
    "print(\"The mean of our targets is: \",Y_mean)\n",
    "x_std = np.std(X)\n",
    "print(\"The standard deviation of our features is: \",x_std)\n",
    "y_std = np.std(Y)\n",
    "print(\"The standard deviation of our targets is: \",y_std)\n",
    "\n",
    "\n"
   ]
  },
  {
   "cell_type": "markdown",
   "metadata": {},
   "source": [
    "**4. For each pair of features (1,2), (1,3), and (1,4), plot a scatterplot (see `plt.plot`\n",
    "or `plt.scatter`) of\n",
    "the feature values, colored according to their target value (class).\n",
    "(For example, plot all data points with *y=0* as blue, *y=1* as green, and *y=2* as red.)**"
   ]
  },
  {
   "cell_type": "code",
   "execution_count": 6,
   "metadata": {},
   "outputs": [
    {
     "data": {
      "image/png": "[encoded data removed]",
      "text/plain": [
       "<Figure size 1200x300 with 1 Axes>"
      ]
     },
     "metadata": {},
     "output_type": "display_data"
    }
   ],
   "source": [
    "# Your code here for color-coded scattor plots of the features.\n",
    "\n",
    "for index in range(len(X)) :\n",
    "    color_value = Y[index]\n",
    "    current_data = X[index]    \n",
    "    plot_color = \"blue\"\n",
    "    if color_value == 1:\n",
    "        plot_color = \"green\"\n",
    "    elif color_value == 2:\n",
    "        plot_color = \"red\"\n",
    "    \n",
    "    for index in range(len(current_data)):\n",
    "        if index != 0:\n",
    "            plt.scatter(current_data[0], current_data[index], color=plot_color)\n",
    "    \n",
    "\n"
   ]
  },
  {
   "cell_type": "code",
   "execution_count": null,
   "metadata": {},
   "outputs": [],
   "source": []
  }
 ],
 "metadata": {
  "kernelspec": {
   "display_name": "Python 3 (ipykernel)",
   "language": "python",
   "name": "python3"
  },
  "language_info": {
   "codemirror_mode": {
    "name": "ipython",
    "version": 3
   },
   "file_extension": ".py",
   "mimetype": "text/x-python",
   "name": "python",
   "nbconvert_exporter": "python",
   "pygments_lexer": "ipython3",
   "version": "3.10.6"
  },
  "latex_envs": {
   "LaTeX_envs_menu_present": true,
   "autoclose": false,
   "autocomplete": true,
   "bibliofile": "biblio.bib",
   "cite_by": "apalike",
   "current_citInitial": 1,
   "eqLabelWithNumbers": true,
   "eqNumInitial": 1,
   "hotkeys": {
    "equation": "Ctrl-E",
    "itemize": "Ctrl-I"
   },
   "labels_anchors": false,
   "latex_user_defs": false,
   "report_style_numbering": false,
   "user_envs_cfg": false
  }
 },
 "nbformat": 4,
 "nbformat_minor": 4
}
